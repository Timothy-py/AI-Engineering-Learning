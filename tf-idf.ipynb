{
 "cells": [
  {
   "cell_type": "code",
   "execution_count": 7,
   "id": "c8cf222d",
   "metadata": {},
   "outputs": [],
   "source": [
    "import pandas as pd\n",
    "from sklearn.feature_extraction.text import TfidfVectorizer"
   ]
  },
  {
   "cell_type": "markdown",
   "id": "04ca3bab",
   "metadata": {},
   "source": [
    "TERM FREQUENCY INVERSE DOCUMENT FREQUENCY"
   ]
  },
  {
   "cell_type": "code",
   "execution_count": 8,
   "id": "5b4a9e5e",
   "metadata": {},
   "outputs": [],
   "source": [
    "data = [' Most shark attacks occur about 10 feet from the beach since that is where the people are',\n",
    "        'the efficiency with which he paired the socks in the drawer was quite admirable',\n",
    "        'carol drank the blood as if she were a vampire',\n",
    "        'giving directions that the mountains are to the west only works when you can see them',\n",
    "        'the sign said there was road work ahead so he decided to speed up',\n",
    "        'the gruff old man sat in the back of the bait shop grumbling to himself as he scooped out a handful of worms']"
   ]
  },
  {
   "cell_type": "code",
   "execution_count": null,
   "id": "4e3e8481",
   "metadata": {},
   "outputs": [
    {
     "name": "stdout",
     "output_type": "stream",
     "text": [
      "         10     about  admirable     ahead  ...      work    works    worms      you\n",
      "0  0.257061  0.257061   0.000000  0.000000  ...  0.000000  0.00000  0.00000  0.00000\n",
      "1  0.000000  0.000000   0.293641  0.000000  ...  0.000000  0.00000  0.00000  0.00000\n",
      "2  0.000000  0.000000   0.000000  0.000000  ...  0.000000  0.00000  0.00000  0.00000\n",
      "3  0.000000  0.000000   0.000000  0.000000  ...  0.000000  0.27104  0.00000  0.27104\n",
      "4  0.000000  0.000000   0.000000  0.290766  ...  0.290766  0.00000  0.00000  0.00000\n",
      "5  0.000000  0.000000   0.000000  0.000000  ...  0.000000  0.00000  0.21782  0.00000\n",
      "\n",
      "[6 rows x 71 columns]\n"
     ]
    }
   ],
   "source": [
    "tfidfvec = TfidfVectorizer()\n",
    "tfidfvec_fit = tfidfvec.fit_transform(data)\n",
    "tfidf_bag = pd.DataFrame(tfidfvec_fit.toarray(), columns=tfidfvec.get_feature_names_out())\n",
    "print(tfidf_bag)"
   ]
  }
 ],
 "metadata": {
  "kernelspec": {
   "display_name": "nlp_course_env",
   "language": "python",
   "name": "python3"
  },
  "language_info": {
   "codemirror_mode": {
    "name": "ipython",
    "version": 3
   },
   "file_extension": ".py",
   "mimetype": "text/x-python",
   "name": "python",
   "nbconvert_exporter": "python",
   "pygments_lexer": "ipython3",
   "version": "3.13.7"
  }
 },
 "nbformat": 4,
 "nbformat_minor": 5
}
