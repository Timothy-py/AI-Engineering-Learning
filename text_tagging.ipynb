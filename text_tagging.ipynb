{
 "cells": [
  {
   "cell_type": "code",
   "execution_count": null,
   "id": "9eed8f1d",
   "metadata": {},
   "outputs": [],
   "source": [
    "import pandas as pd\n",
    "from nltk.corpus import stopwords\n",
    "import re\n",
    "from nltk.tokenize import word_tokenize\n",
    "from nltk.stem import WordNetLemmatizer\n",
    "import spacy"
   ]
  },
  {
   "cell_type": "code",
   "execution_count": null,
   "id": "2b0a1b46",
   "metadata": {},
   "outputs": [],
   "source": [
    "data = pd.read_csv('bbc_news.csv')\n",
    "print(data.head())"
   ]
  },
  {
   "cell_type": "code",
   "execution_count": null,
   "id": "028bdd16",
   "metadata": {},
   "outputs": [],
   "source": [
    "data.info()"
   ]
  },
  {
   "cell_type": "code",
   "execution_count": null,
   "id": "a46b07d7",
   "metadata": {},
   "outputs": [],
   "source": [
    "# Pick title column\n",
    "titles = pd.DataFrame(data['title'])\n",
    "titles.head(10)"
   ]
  },
  {
   "cell_type": "markdown",
   "id": "72b14ca7",
   "metadata": {},
   "source": [
    "Clean Data"
   ]
  },
  {
   "cell_type": "code",
   "execution_count": null,
   "id": "c663c2c5",
   "metadata": {},
   "outputs": [],
   "source": [
    "# Change title to Lowercase\n",
    "titles['lowercase'] = titles['title'].str.lower()\n",
    "titles.head(10)"
   ]
  },
  {
   "cell_type": "code",
   "execution_count": null,
   "id": "a5bdfc21",
   "metadata": {},
   "outputs": [],
   "source": [
    "# Remove all stopwords\n",
    "en_stopwords = stopwords.words('english')\n",
    "titles['no_stopwords'] = titles['lowercase'].apply(lambda x: ' '.join(\n",
    "    [word for word in x.split() if word not in (en_stopwords)]))\n",
    "titles.head(10)"
   ]
  },
  {
   "cell_type": "code",
   "execution_count": null,
   "id": "82dd4305",
   "metadata": {},
   "outputs": [],
   "source": [
    "# Remove Punctuations\n",
    "titles['no_stopwords_no_punctuation'] = titles.apply(\n",
    "    lambda x: re.sub(r\"([^\\w\\s])\", \"\", x['no_stopwords']), axis=1)\n",
    "\n",
    "titles.head(10)"
   ]
  },
  {
   "cell_type": "code",
   "execution_count": null,
   "id": "49e9860a",
   "metadata": {},
   "outputs": [],
   "source": [
    "# Tokenize\n",
    "titles['tokens_raw'] = titles.apply(lambda x: word_tokenize(x['title']), axis=1)\n",
    "titles['tokens_clean'] = titles.apply(lambda x: word_tokenize(x['no_stopwords_no_punctuation']), axis=1)\n",
    "titles.head(10)"
   ]
  },
  {
   "cell_type": "code",
   "execution_count": null,
   "id": "1ca318ba",
   "metadata": {},
   "outputs": [],
   "source": [
    "# Lemmatization\n",
    "lemmatizer = WordNetLemmatizer()\n",
    "titles['tokens_clean_lemmantized'] = titles['tokens_clean'].apply(lambda tokens: [lemmatizer.lemmatize(token) for token in tokens])\n",
    "titles.head(10)"
   ]
  },
  {
   "cell_type": "code",
   "execution_count": null,
   "id": "0cdd4910",
   "metadata": {},
   "outputs": [],
   "source": [
    "# Put the tokens into a a single list\n",
    "tokens_raw_list = sum(titles['tokens_raw'], [])\n",
    "tokens_clean_list = sum(titles['tokens_clean_lemmantized'], [])"
   ]
  },
  {
   "cell_type": "markdown",
   "id": "9bcadb35",
   "metadata": {},
   "source": [
    "POS TAGGING"
   ]
  },
  {
   "cell_type": "code",
   "execution_count": null,
   "id": "7723b474",
   "metadata": {},
   "outputs": [],
   "source": [
    "nlp = spacy.load('en_core_web_sm')\n",
    "\n",
    "# Create a spacy doc from the clean text - better for POS tagging\n",
    "spacy_doc = nlp(' '.join(tokens_clean_list))"
   ]
  },
  {
   "cell_type": "code",
   "execution_count": null,
   "id": "90550170",
   "metadata": {},
   "outputs": [],
   "source": [
    "# Extract the tokens and POS tags into a dataframe\n",
    "pos_df = pd.DataFrame(columns=['Token', 'pos_tag'])\n",
    "\n",
    "for token in spacy_doc:\n",
    "    pos_df = pd.concat([pos_df, pd.DataFrame.from_records(\n",
    "        [{'token': token.text, 'pos_tag': token.pos_}])], ignore_index=True)"
   ]
  },
  {
   "cell_type": "code",
   "execution_count": null,
   "id": "9d8a0f9b",
   "metadata": {},
   "outputs": [],
   "source": [
    "# Token frequency count\n",
    "pos_df_counts = pos_df.groupby(['token', 'pos_tag']).size().reset_index(name='counts').sort_values(by='counts', ascending=False)\n",
    "print(pos_df_counts.head(10))"
   ]
  },
  {
   "cell_type": "code",
   "execution_count": null,
   "id": "fd104129",
   "metadata": {},
   "outputs": [],
   "source": [
    "# MOST COMMON NOUNS\n",
    "nouns = pos_df_counts[pos_df_counts.pos_tag == 'NOUN'][0:10]\n",
    "print(nouns)"
   ]
  },
  {
   "cell_type": "code",
   "execution_count": null,
   "id": "ee7fdbc8",
   "metadata": {},
   "outputs": [],
   "source": [
    "# MOST COMMON VERBS\n",
    "verbs = pos_df_counts[pos_df_counts.pos_tag == 'VERB'][0:10]\n",
    "print(verbs)"
   ]
  },
  {
   "cell_type": "markdown",
   "id": "4304ce88",
   "metadata": {},
   "source": [
    "NAMED ENTITY RECOGNITION TAGGING"
   ]
  },
  {
   "cell_type": "code",
   "execution_count": null,
   "id": "4a075bb1",
   "metadata": {},
   "outputs": [],
   "source": [
    "# Extract the tokens and entity tags into a dataframe\n",
    "ner_df = pd.DataFrame(columns=['token', 'ner_tag'])\n",
    "\n",
    "for token in spacy_doc.ents:\n",
    "    if pd.isna(token.label_) is False:\n",
    "        ner_df = pd.concat([ner_df, pd.DataFrame.from_records(\n",
    "            [{'token': token.text, 'ner_tag': token.label_}])], ignore_index=True)\n",
    "        \n",
    "ner_df.head(20)"
   ]
  },
  {
   "cell_type": "code",
   "execution_count": null,
   "id": "1d36492f",
   "metadata": {},
   "outputs": [],
   "source": [
    "# NER Token frequency count\n",
    "ner_df_counts = ner_df.groupby(['token', 'ner_tag']).size().reset_index(name='counts').sort_values(by='counts', ascending=False)\n",
    "\n",
    "ner_df_counts.head(12)"
   ]
  },
  {
   "cell_type": "code",
   "execution_count": null,
   "id": "4737d5ff",
   "metadata": {},
   "outputs": [],
   "source": [
    "# Most common people\n",
    "people = ner_df_counts[ner_df_counts.ner_tag == 'PERSON'][0:10]\n",
    "people"
   ]
  },
  {
   "cell_type": "code",
   "execution_count": null,
   "id": "6dc8b3a7",
   "metadata": {},
   "outputs": [],
   "source": [
    "# Most common places\n",
    "places = ner_df_counts[ner_df_counts.ner_tag == 'GPE'][0:10]\n",
    "places"
   ]
  }
 ],
 "metadata": {
  "kernelspec": {
   "display_name": "nlp_course_env",
   "language": "python",
   "name": "python3"
  },
  "language_info": {
   "codemirror_mode": {
    "name": "ipython",
    "version": 3
   },
   "file_extension": ".py",
   "mimetype": "text/x-python",
   "name": "python",
   "nbconvert_exporter": "python",
   "pygments_lexer": "ipython3",
   "version": "3.13.7"
  }
 },
 "nbformat": 4,
 "nbformat_minor": 5
}
