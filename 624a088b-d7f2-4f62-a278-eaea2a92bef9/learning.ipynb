{
 "cells": [
  {
   "cell_type": "code",
   "execution_count": null,
   "id": "17247c03-bd16-47e2-a474-a9bc1e29a2e4",
   "metadata": {},
   "outputs": [],
   "source": []
  },
  {
   "cell_type": "code",
   "execution_count": 2,
   "id": "ccc4972d-dde3-4534-93d4-691ba4c8968a",
   "metadata": {},
   "outputs": [
    {
     "name": "stdout",
     "output_type": "stream",
     "text": [
      "Number of values smaller than 20: 5\n"
     ]
    }
   ],
   "source": [
    "def count_smaller_than_20(input_list):\n",
    "    \"\"\"\n",
    "    Count the number of values in a list that are smaller than 20.\n",
    "    \n",
    "    Parameters:\n",
    "    input_list (list): A list of numeric values\n",
    "    \n",
    "    Returns:\n",
    "    int: The count of values smaller than 20\n",
    "    \"\"\"\n",
    "    count = 0\n",
    "    for item in input_list:\n",
    "        if isinstance(item, (int, float)) and item < 20:\n",
    "            count += 1\n",
    "    return count\n",
    "\n",
    "# Example usage\n",
    "if __name__ == \"__main__\":\n",
    "    test_list = [5, 25, 10, 15, 30, 8, 22, 18]\n",
    "    result = count_smaller_than_20(test_list)\n",
    "    print(f\"Number of values smaller than 20: {result}\")  # Should output 5"
   ]
  },
  {
   "cell_type": "code",
   "execution_count": null,
   "id": "0e8c4b55-71d4-4014-8358-b78f8f06376e",
   "metadata": {},
   "outputs": [],
   "source": []
  }
 ],
 "metadata": {
  "kernelspec": {
   "display_name": "Python [conda env:base] *",
   "language": "python",
   "name": "conda-base-py"
  },
  "language_info": {
   "codemirror_mode": {
    "name": "ipython",
    "version": 3
   },
   "file_extension": ".py",
   "mimetype": "text/x-python",
   "name": "python",
   "nbconvert_exporter": "python",
   "pygments_lexer": "ipython3",
   "version": "3.13.5"
  }
 },
 "nbformat": 4,
 "nbformat_minor": 5
}
